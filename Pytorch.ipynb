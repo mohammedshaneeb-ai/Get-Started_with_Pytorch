{
  "nbformat": 4,
  "nbformat_minor": 0,
  "metadata": {
    "colab": {
      "provenance": [],
      "gpuType": "T4",
      "authorship_tag": "ABX9TyMF6WHTJwO74jwKkuy0iaCS",
      "include_colab_link": true
    },
    "kernelspec": {
      "name": "python3",
      "display_name": "Python 3"
    },
    "language_info": {
      "name": "python"
    },
    "accelerator": "GPU"
  },
  "cells": [
    {
      "cell_type": "markdown",
      "metadata": {
        "id": "view-in-github",
        "colab_type": "text"
      },
      "source": [
        "<a href=\"https://colab.research.google.com/github/mohammedshaneeb-ai/Get-Started_with_Pytorch/blob/main/Pytorch.ipynb\" target=\"_parent\"><img src=\"https://colab.research.google.com/assets/colab-badge.svg\" alt=\"Open In Colab\"/></a>"
      ]
    },
    {
      "cell_type": "code",
      "execution_count": 17,
      "metadata": {
        "id": "qche9QKYeF27"
      },
      "outputs": [],
      "source": [
        "import torch\n",
        "from torch import nn\n",
        "from torch.utils.data import DataLoader\n",
        "from torchvision import datasets\n",
        "from torchvision.transforms import ToTensor"
      ]
    },
    {
      "cell_type": "code",
      "source": [
        "# Download training data\n",
        "training_data = datasets.FashionMNIST(\n",
        "    root = 'data',\n",
        "    train = True,\n",
        "    download = True,\n",
        "    transform = ToTensor()\n",
        ")"
      ],
      "metadata": {
        "id": "0uR2HWzkeUwi"
      },
      "execution_count": 18,
      "outputs": []
    },
    {
      "cell_type": "code",
      "source": [
        "# Creating test data\n",
        "test_data = datasets.FashionMNIST(\n",
        "    root = 'data',\n",
        "    train = False,\n",
        "    download = True,\n",
        "    transform=ToTensor()\n",
        ")"
      ],
      "metadata": {
        "id": "mvdy1jxHfYIA"
      },
      "execution_count": 19,
      "outputs": []
    },
    {
      "cell_type": "code",
      "source": [
        "batch_size = 64\n",
        "\n",
        "train_dataloader = DataLoader(training_data,batch_size=batch_size)\n",
        "test_dataloader = DataLoader(test_data, batch_size = batch_size)\n"
      ],
      "metadata": {
        "id": "yoW46OjJftuF"
      },
      "execution_count": 20,
      "outputs": []
    },
    {
      "cell_type": "code",
      "source": [
        "# Get cpu, gpu or mps device for training.\n",
        "device = (\n",
        "    \"cuda\"\n",
        "    if torch.cuda.is_available()\n",
        "    else \"mps\"\n",
        "    if torch.backends.mps.is_available()\n",
        "    else \"cpu\"\n",
        "    )"
      ],
      "metadata": {
        "id": "J1v0sxUZgb3m"
      },
      "execution_count": 21,
      "outputs": []
    },
    {
      "cell_type": "code",
      "source": [
        "print(f\"using {device} device\")"
      ],
      "metadata": {
        "colab": {
          "base_uri": "https://localhost:8080/"
        },
        "id": "XZqFBT2thUKq",
        "outputId": "d057a035-4f38-4a4f-d545-391d445d52b3"
      },
      "execution_count": 22,
      "outputs": [
        {
          "output_type": "stream",
          "name": "stdout",
          "text": [
            "using cuda device\n"
          ]
        }
      ]
    },
    {
      "cell_type": "code",
      "source": [
        "# Define model\n",
        "class NeuralNetwork(nn.Module):\n",
        "  def __init__(self):\n",
        "    super().__init__()\n",
        "    self.flatten = nn.Flatten()\n",
        "    self.linear_relu_stack = nn.Sequential(\n",
        "        nn.Linear(28*28,512),\n",
        "        nn.ReLU(),\n",
        "        nn.Linear(512,512),\n",
        "        nn.ReLU(),\n",
        "        nn.Linear(512,10)\n",
        "    )\n",
        "\n",
        "  def forward(self,x):\n",
        "    x = self.flatten(x)\n",
        "    logits = self.linear_relu_stack(x)\n",
        "    return logits\n",
        "\n",
        "\n",
        "model = NeuralNetwork().to(device)\n",
        "print(model)"
      ],
      "metadata": {
        "colab": {
          "base_uri": "https://localhost:8080/"
        },
        "id": "2eauUukghnGn",
        "outputId": "72869bcb-e49a-4b50-a806-e965100e38ba"
      },
      "execution_count": 23,
      "outputs": [
        {
          "output_type": "stream",
          "name": "stdout",
          "text": [
            "NeuralNetwork(\n",
            "  (flatten): Flatten(start_dim=1, end_dim=-1)\n",
            "  (linear_relu_stack): Sequential(\n",
            "    (0): Linear(in_features=784, out_features=512, bias=True)\n",
            "    (1): ReLU()\n",
            "    (2): Linear(in_features=512, out_features=512, bias=True)\n",
            "    (3): ReLU()\n",
            "    (4): Linear(in_features=512, out_features=10, bias=True)\n",
            "  )\n",
            ")\n"
          ]
        }
      ]
    },
    {
      "cell_type": "code",
      "source": [
        "# Optimizing the model Parameters\n",
        "loss_fn = nn.CrossEntropyLoss()\n",
        "optimizer = torch.optim.SGD(model.parameters(),lr=1e-3)"
      ],
      "metadata": {
        "id": "JFmcMpo1hwFi"
      },
      "execution_count": 24,
      "outputs": []
    },
    {
      "cell_type": "code",
      "source": [
        "def train(dataloader,model,loss_fn,optimizer):\n",
        "  size = len(dataloader.dataset)\n",
        "  model.train()\n",
        "  for  batch,(X,y) in enumerate(dataloader):\n",
        "    X, y = X.to(device), y.to(device)\n",
        "\n",
        "    # compute prediction error\n",
        "    pred = model(X)\n",
        "    loss = loss_fn(pred,y)\n",
        "\n",
        "    # Backpropagation\n",
        "    loss.backward()\n",
        "    optimizer.step()\n",
        "    optimizer.zero_grad()\n",
        "\n",
        "\n",
        "    if batch % 100 == 0:\n",
        "      loss,current = loss.item(),(batch +1) * len(X)\n",
        "      print(f\"loss: {loss :>7f}[{current:>5d}/{size:>5d}]\")\n"
      ],
      "metadata": {
        "id": "Z89A6YIjlK6p"
      },
      "execution_count": 25,
      "outputs": []
    },
    {
      "cell_type": "code",
      "source": [
        "print(len(train_dataloader.dataset))\n",
        "print(len(train_dataloader))"
      ],
      "metadata": {
        "colab": {
          "base_uri": "https://localhost:8080/"
        },
        "id": "e6eeyoL9nDnq",
        "outputId": "a2e02547-7a93-48ee-ec82-c05858e56b7b"
      },
      "execution_count": 26,
      "outputs": [
        {
          "output_type": "stream",
          "name": "stdout",
          "text": [
            "60000\n",
            "938\n"
          ]
        }
      ]
    },
    {
      "cell_type": "code",
      "source": [
        "def test(dataloader,model,loss_fn):\n",
        "    size = len(dataloader.dataset)\n",
        "    num_batches = len(dataloader)\n",
        "    model.eval()\n",
        "    test_loss, correct = 0, 0\n",
        "    with torch.no_grad():\n",
        "        for X, y in dataloader:\n",
        "            X, y = X.to(device), y.to(device)\n",
        "            pred = model(X)\n",
        "            test_loss += loss_fn(pred, y).item()\n",
        "            correct += (pred.argmax(1) == y).type(torch.float).sum().item()\n",
        "    test_loss /= num_batches\n",
        "    correct /= size\n",
        "    print(f\"Test Error: \\n Accuracy: {(100*correct):>0.1f}%, Avg loss: {test_loss:>8f} \\n\")\n"
      ],
      "metadata": {
        "id": "QKK_dllWm6up"
      },
      "execution_count": 27,
      "outputs": []
    },
    {
      "cell_type": "code",
      "source": [
        "epochs = 5\n",
        "for t in range(epochs):\n",
        "  print(f\"Epoch{t+1}\\n-----------------\")\n",
        "  train(train_dataloader,model,loss_fn,optimizer)\n",
        "  test(test_dataloader,model,loss_fn)\n",
        "print(\"Done!\")"
      ],
      "metadata": {
        "colab": {
          "base_uri": "https://localhost:8080/"
        },
        "id": "6HqMogjro4sD",
        "outputId": "32964191-eee3-46f7-ce4f-d56f5342f3ac"
      },
      "execution_count": 28,
      "outputs": [
        {
          "output_type": "stream",
          "name": "stdout",
          "text": [
            "Epoch1\n",
            "-----------------\n",
            "loss: 2.307416[   64/60000]\n",
            "loss: 2.285498[ 6464/60000]\n",
            "loss: 2.266133[12864/60000]\n",
            "loss: 2.256382[19264/60000]\n",
            "loss: 2.225286[25664/60000]\n",
            "loss: 2.212332[32064/60000]\n",
            "loss: 2.212331[38464/60000]\n",
            "loss: 2.174802[44864/60000]\n",
            "loss: 2.175035[51264/60000]\n",
            "loss: 2.135781[57664/60000]\n",
            "Test Error: \n",
            " Accuracy: 47.0%, Avg loss: 2.130928 \n",
            "\n",
            "Epoch2\n",
            "-----------------\n",
            "loss: 2.143089[   64/60000]\n",
            "loss: 2.126419[ 6464/60000]\n",
            "loss: 2.063003[12864/60000]\n",
            "loss: 2.082289[19264/60000]\n",
            "loss: 2.010707[25664/60000]\n",
            "loss: 1.965438[32064/60000]\n",
            "loss: 1.984759[38464/60000]\n",
            "loss: 1.895875[44864/60000]\n",
            "loss: 1.907583[51264/60000]\n",
            "loss: 1.830725[57664/60000]\n",
            "Test Error: \n",
            " Accuracy: 56.6%, Avg loss: 1.829182 \n",
            "\n",
            "Epoch3\n",
            "-----------------\n",
            "loss: 1.862166[   64/60000]\n",
            "loss: 1.831496[ 6464/60000]\n",
            "loss: 1.708574[12864/60000]\n",
            "loss: 1.757531[19264/60000]\n",
            "loss: 1.631796[25664/60000]\n",
            "loss: 1.603658[32064/60000]\n",
            "loss: 1.618495[38464/60000]\n",
            "loss: 1.520115[44864/60000]\n",
            "loss: 1.552771[51264/60000]\n",
            "loss: 1.445726[57664/60000]\n",
            "Test Error: \n",
            " Accuracy: 61.7%, Avg loss: 1.469346 \n",
            "\n",
            "Epoch4\n",
            "-----------------\n",
            "loss: 1.533572[   64/60000]\n",
            "loss: 1.507059[ 6464/60000]\n",
            "loss: 1.356141[12864/60000]\n",
            "loss: 1.433601[19264/60000]\n",
            "loss: 1.304414[25664/60000]\n",
            "loss: 1.318499[32064/60000]\n",
            "loss: 1.327350[38464/60000]\n",
            "loss: 1.252082[44864/60000]\n",
            "loss: 1.296151[51264/60000]\n",
            "loss: 1.188618[57664/60000]\n",
            "Test Error: \n",
            " Accuracy: 63.5%, Avg loss: 1.222501 \n",
            "\n",
            "Epoch5\n",
            "-----------------\n",
            "loss: 1.295564[   64/60000]\n",
            "loss: 1.284820[ 6464/60000]\n",
            "loss: 1.117786[12864/60000]\n",
            "loss: 1.225229[19264/60000]\n",
            "loss: 1.092035[25664/60000]\n",
            "loss: 1.131770[32064/60000]\n",
            "loss: 1.149087[38464/60000]\n",
            "loss: 1.084143[44864/60000]\n",
            "loss: 1.134528[51264/60000]\n",
            "loss: 1.036328[57664/60000]\n",
            "Test Error: \n",
            " Accuracy: 64.6%, Avg loss: 1.067515 \n",
            "\n",
            "Done!\n"
          ]
        }
      ]
    },
    {
      "cell_type": "code",
      "source": [],
      "metadata": {
        "id": "iQf_ckIcpHZ2"
      },
      "execution_count": 28,
      "outputs": []
    }
  ]
}